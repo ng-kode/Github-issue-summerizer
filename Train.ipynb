{
 "cells": [
  {
   "cell_type": "markdown",
   "metadata": {},
   "source": [
    "# Model Architecture"
   ]
  },
  {
   "cell_type": "code",
   "execution_count": 1,
   "metadata": {},
   "outputs": [],
   "source": [
    "doc_length = 70\n",
    "num_encoder_tokens = 8000\n",
    "num_decoder_tokens = 4500"
   ]
  },
  {
   "cell_type": "code",
   "execution_count": 2,
   "metadata": {},
   "outputs": [
    {
     "name": "stderr",
     "output_type": "stream",
     "text": [
      "/home/richard/deep_learn_p3/lib/python3.5/site-packages/h5py/__init__.py:36: FutureWarning: Conversion of the second argument of issubdtype from `float` to `np.floating` is deprecated. In future, it will be treated as `np.float64 == np.dtype(float).type`.\n",
      "  from ._conv import register_converters as _register_converters\n",
      "Using TensorFlow backend.\n"
     ]
    }
   ],
   "source": [
    "from keras.layers import Input, Embedding, BatchNormalization, GRU, Dense, merge\n",
    "from keras.models import Model\n",
    "from keras import optimizers"
   ]
  },
  {
   "cell_type": "code",
   "execution_count": 7,
   "metadata": {},
   "outputs": [
    {
     "name": "stderr",
     "output_type": "stream",
     "text": [
      "/home/richard/deep_learn_p3/lib/python3.5/site-packages/ipykernel_launcher.py:12: UserWarning: The `merge` function is deprecated and will be removed after 08/2017. Use instead layers from `keras.layers.merge`, e.g. `add`, `concatenate`, etc.\n",
      "  if sys.path[0] == '':\n",
      "/home/richard/deep_learn_p3/lib/python3.5/site-packages/keras/legacy/layers.py:465: UserWarning: The `Merge` layer is deprecated and will be removed after 08/2017. Use instead layers from `keras.layers.merge`, e.g. `add`, `concatenate`, etc.\n",
      "  name=name)\n",
      "/home/richard/deep_learn_p3/lib/python3.5/site-packages/ipykernel_launcher.py:30: UserWarning: The `merge` function is deprecated and will be removed after 08/2017. Use instead layers from `keras.layers.merge`, e.g. `add`, `concatenate`, etc.\n"
     ]
    }
   ],
   "source": [
    "latent_dim = 300\n",
    "\n",
    "#### Encoder ####\n",
    "encoder_inputs = Input(shape=(doc_length,), name='Encoder-Input')\n",
    "\n",
    "x = Embedding(num_encoder_tokens, latent_dim, mask_zero=False, name='Body-Word-Embedding')(encoder_inputs)\n",
    "x = BatchNormalization(name='Encoder-BatchNorm-1')(x)\n",
    "\n",
    "_, state_h = GRU(latent_dim, return_state=True, name='Encoder-Last-GRU')(x)\n",
    "_, state_h_back = GRU(latent_dim, return_state=True, go_backwards=True, name='Encoder-Last-Backward-GRU')(x)\n",
    "\n",
    "state_h = merge([state_h, state_h_back], mode='sum')\n",
    "\n",
    "encoder_model = Model(encoder_inputs, state_h, name='Encoder-Model')\n",
    "\n",
    "seq2seq_encoder_out = encoder_model(encoder_inputs)\n",
    "\n",
    "#### Decoder ####\n",
    "decoder_inputs = Input(shape=(None,), name='Decoder-Input')\n",
    "\n",
    "x = Embedding(num_decoder_tokens, latent_dim, mask_zero=False, name='Title-Word-Embedding')(decoder_inputs)\n",
    "x = BatchNormalization(name='Decoder-BatchNorm-1')(x)\n",
    "\n",
    "decoder_gru = GRU(latent_dim, return_state=True, return_sequences=True, name='Decoder-GRU')\n",
    "\n",
    "decoder_gru_out, _ = decoder_gru(x, initial_state=seq2seq_encoder_out)\n",
    "\n",
    "x = BatchNormalization(name='Decoder-BatchNorm-2')(decoder_gru_out)\n",
    "\n",
    "decoder_dense_out = Dense(num_decoder_tokens, activation='softmax', name='Final-Output-Dense')(x)\n",
    "\n",
    "#### Seq2Seq Model ####\n",
    "seq2seq_Model = Model([encoder_inputs, decoder_inputs], decoder_dense_out, name='Seq2Seq-Model')\n",
    "\n",
    "seq2seq_Model.compile(optimizer=optimizers.Nadam(lr=1e-3), loss='sparse_categorical_crossentropy')"
   ]
  },
  {
   "cell_type": "code",
   "execution_count": 8,
   "metadata": {},
   "outputs": [
    {
     "name": "stdout",
     "output_type": "stream",
     "text": [
      "__________________________________________________________________________________________________\n",
      "Layer (type)                    Output Shape         Param #     Connected to                     \n",
      "==================================================================================================\n",
      "Decoder-Input (InputLayer)      (None, None)         0                                            \n",
      "__________________________________________________________________________________________________\n",
      "Title-Word-Embedding (Embedding (None, None, 300)    1350000     Decoder-Input[0][0]              \n",
      "__________________________________________________________________________________________________\n",
      "Encoder-Input (InputLayer)      (None, 70)           0                                            \n",
      "__________________________________________________________________________________________________\n",
      "Decoder-BatchNorm-1 (BatchNorma (None, None, 300)    1200        Title-Word-Embedding[0][0]       \n",
      "__________________________________________________________________________________________________\n",
      "Encoder-Model (Model)           (None, 300)          3483000     Encoder-Input[0][0]              \n",
      "__________________________________________________________________________________________________\n",
      "Decoder-GRU (GRU)               [(None, None, 300),  540900      Decoder-BatchNorm-1[0][0]        \n",
      "                                                                 Encoder-Model[1][0]              \n",
      "__________________________________________________________________________________________________\n",
      "Decoder-Backward-GRU (GRU)      [(None, None, 300),  540900      Decoder-BatchNorm-1[0][0]        \n",
      "                                                                 Encoder-Model[1][0]              \n",
      "__________________________________________________________________________________________________\n",
      "merge_6 (Merge)                 (None, None, 600)    0           Decoder-GRU[0][0]                \n",
      "                                                                 Decoder-Backward-GRU[0][0]       \n",
      "__________________________________________________________________________________________________\n",
      "Decoder-BatchNorm-2 (BatchNorma (None, None, 600)    2400        merge_6[0][0]                    \n",
      "__________________________________________________________________________________________________\n",
      "Final-Output-Dense (Dense)      (None, None, 4500)   2704500     Decoder-BatchNorm-2[0][0]        \n",
      "==================================================================================================\n",
      "Total params: 8,622,900\n",
      "Trainable params: 8,620,500\n",
      "Non-trainable params: 2,400\n",
      "__________________________________________________________________________________________________\n"
     ]
    }
   ],
   "source": [
    "seq2seq_Model.summary()"
   ]
  },
  {
   "cell_type": "code",
   "execution_count": 9,
   "metadata": {},
   "outputs": [],
   "source": [
    "from keras.utils import plot_model\n",
    "plot_model(seq2seq_Model, to_file='model.png')"
   ]
  },
  {
   "cell_type": "markdown",
   "metadata": {},
   "source": [
    "# Train Model"
   ]
  },
  {
   "cell_type": "code",
   "execution_count": 10,
   "metadata": {},
   "outputs": [
    {
     "name": "stdout",
     "output_type": "stream",
     "text": [
      "Shape of encoder input: (1800000, 70)\n",
      "Shape of decoder input: (1800000, 11)\n",
      "Shape of decoder target: (1800000, 11)\n"
     ]
    }
   ],
   "source": [
    "from Helpers import load_encoder_inputs, load_decoder_inputs\n",
    "\n",
    "encoder_input_data, _ = load_encoder_inputs('train_body_vecs.npy')\n",
    "decoder_input_data, decoder_target_data = load_decoder_inputs('train_title_vecs.npy')"
   ]
  },
  {
   "cell_type": "code",
   "execution_count": 11,
   "metadata": {},
   "outputs": [
    {
     "name": "stdout",
     "output_type": "stream",
     "text": [
      "Train on 1584000 samples, validate on 216000 samples\n",
      "Epoch 1/3\n",
      "1584000/1584000 [==============================] - 517s 326us/step - loss: 2.1862 - val_loss: 1.8347\n",
      "Epoch 2/3\n",
      "1584000/1584000 [==============================] - 527s 332us/step - loss: 1.6803 - val_loss: 1.6675\n",
      "Epoch 3/3\n",
      "1584000/1584000 [==============================] - 528s 334us/step - loss: 1.5532 - val_loss: 1.6220\n"
     ]
    }
   ],
   "source": [
    "import numpy as np\n",
    "\n",
    "batch_size = 1200\n",
    "epochs = 5\n",
    "history = seq2seq_Model.fit([encoder_input_data, decoder_input_data], np.expand_dims(decoder_target_data, -1),\n",
    "          batch_size=batch_size,\n",
    "          epochs=epochs,\n",
    "          validation_split=0.12)"
   ]
  },
  {
   "cell_type": "code",
   "execution_count": 12,
   "metadata": {},
   "outputs": [
    {
     "name": "stderr",
     "output_type": "stream",
     "text": [
      "/home/richard/deep_learn_p3/lib/python3.5/site-packages/keras/engine/topology.py:2379: UserWarning: Layer Decoder-GRU was passed non-serializable keyword arguments: {'initial_state': [<tf.Tensor 'Encoder-Model_3/merge_5/add:0' shape=(?, 300) dtype=float32>]}. They will not be included in the serialized model (and thus will be missing at deserialization time).\n",
      "  str(node.arguments) + '. They will not be included '\n",
      "/home/richard/deep_learn_p3/lib/python3.5/site-packages/keras/engine/topology.py:2379: UserWarning: Layer Decoder-Backward-GRU was passed non-serializable keyword arguments: {'initial_state': [<tf.Tensor 'Encoder-Model_3/merge_5/add:0' shape=(?, 300) dtype=float32>]}. They will not be included in the serialized model (and thus will be missing at deserialization time).\n",
      "  str(node.arguments) + '. They will not be included '\n"
     ]
    }
   ],
   "source": [
    "seq2seq_Model.save('seq2seq_model.h5')"
   ]
  },
  {
   "cell_type": "code",
   "execution_count": null,
   "metadata": {},
   "outputs": [],
   "source": []
  }
 ],
 "metadata": {
  "kernelspec": {
   "display_name": "Python 3",
   "language": "python",
   "name": "python3"
  },
  "language_info": {
   "codemirror_mode": {
    "name": "ipython",
    "version": 3
   },
   "file_extension": ".py",
   "mimetype": "text/x-python",
   "name": "python",
   "nbconvert_exporter": "python",
   "pygments_lexer": "ipython3",
   "version": "3.5.2"
  }
 },
 "nbformat": 4,
 "nbformat_minor": 2
}
