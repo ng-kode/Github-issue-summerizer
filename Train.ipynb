{
 "cells": [
  {
   "cell_type": "markdown",
   "metadata": {},
   "source": [
    "# Model Architecture"
   ]
  },
  {
   "cell_type": "code",
   "execution_count": 1,
   "metadata": {
    "scrolled": false
   },
   "outputs": [
    {
     "name": "stderr",
     "output_type": "stream",
     "text": [
      "/home/richard/deep_learn_p3/lib/python3.5/site-packages/h5py/__init__.py:36: FutureWarning: Conversion of the second argument of issubdtype from `float` to `np.floating` is deprecated. In future, it will be treated as `np.float64 == np.dtype(float).type`.\n",
      "  from ._conv import register_converters as _register_converters\n",
      "Using TensorFlow backend.\n"
     ]
    }
   ],
   "source": [
    "from keras.layers import Input, Embedding, BatchNormalization, GRU, Dense, merge, Permute, RepeatVector, TimeDistributed\n",
    "from keras.models import Model\n",
    "from keras import optimizers"
   ]
  },
  {
   "cell_type": "code",
   "execution_count": 4,
   "metadata": {
    "scrolled": false
   },
   "outputs": [],
   "source": [
    "LATENT_DIM = 300\n",
    "BODY_LENGTH = 70\n",
    "NUM_ENCODER_TOKENS = 8000\n",
    "NUM_DECODER_TOKENS = 4500\n",
    "\n",
    "#### Encoder ####\n",
    "encoder_inputs = Input(shape=(BODY_LENGTH,), name='Encoder-Input')\n",
    "\n",
    "x = Embedding(NUM_ENCODER_TOKENS, LATENT_DIM, mask_zero=False, name='Body-Word-Embedding')(encoder_inputs)\n",
    "x = BatchNormalization(name='Encoder-BatchNorm-1')(x)\n",
    "\n",
    "_, state_h = GRU(LATENT_DIM, return_state=True, name='Encoder-Last-GRU')(x)\n",
    "_, state_h_back = GRU(LATENT_DIM, return_state=True, go_backwards=True, name='Encoder-Last-Backward-GRU')(x)\n",
    "\n",
    "encoder_model = Model(encoder_inputs, state_h, name='Encoder-Model')\n",
    "\n",
    "seq2seq_encoder_out = encoder_model(encoder_inputs)\n",
    "\n",
    "#### Decoder ####\n",
    "decoder_inputs = Input(shape=(None,), name='Decoder-Input')\n",
    "\n",
    "x = Embedding(NUM_DECODER_TOKENS, LATENT_DIM, mask_zero=False, name='Title-Word-Embedding')(decoder_inputs)\n",
    "x = BatchNormalization(name='Decoder-BatchNorm-1')(x)\n",
    "\n",
    "decoder_gru = GRU(LATENT_DIM, return_state=True, return_sequences=True, name='Decoder-GRU')\n",
    "\n",
    "decoder_gru_out, _ = decoder_gru(x, initial_state=seq2seq_encoder_out)\n",
    "\n",
    "x = TimeDistributed(BatchNormalization(), name='Decoder-BatchNorm-2')(decoder_gru_out)\n",
    "\n",
    "decoder_dense_out = Dense(NUM_DECODER_TOKENS, activation='softmax', name='Final-Output-Dense')(x)\n",
    "\n",
    "#### Seq2Seq Model ####\n",
    "seq2seq_Model = Model([encoder_inputs, decoder_inputs], decoder_dense_out, name='Seq2Seq-Model')\n",
    "\n",
    "seq2seq_Model.compile(optimizer=optimizers.Nadam(lr=1e-3), loss='sparse_categorical_crossentropy')"
   ]
  },
  {
   "cell_type": "code",
   "execution_count": 2,
   "metadata": {},
   "outputs": [],
   "source": [
    "import numpy as np\n",
    "from keras.preprocessing.sequence import pad_sequences\n",
    "from keras.models import Model\n",
    "from keras.layers import Input\n",
    "\n",
    "class Predictor():\n",
    "    def __init__(self, seq2seqModel, tk_body, tk_title, maxlen_body, maxlen_title):\n",
    "        self.encoder_model = self.get_encoder_model(seq2seqModel)\n",
    "        self.decoder_model = self.get_decoder_model(seq2seqModel)\n",
    "        self.tk_body = tk_body\n",
    "        self.tk_title = tk_title\n",
    "        self.maxlen_body = maxlen_body\n",
    "        self.maxlen_title = maxlen_title\n",
    "        \n",
    "    def get_encoder_model(self, model):\n",
    "        return model.get_layer('Encoder-Model')\n",
    "    \n",
    "    def get_decoder_model(self, model):\n",
    "        latent_dim = model.get_layer('Title-Word-Embedding').output_shape[-1]\n",
    "    \n",
    "        decoder_inputs = model.get_layer('Decoder-Input').input\n",
    "        dec_emb = model.get_layer('Title-Word-Embedding')(decoder_inputs)\n",
    "        dec_bn = model.get_layer('Decoder-BatchNorm-1')(dec_emb)\n",
    "\n",
    "        gru_inference_state_input = Input(shape=(latent_dim,), name='hidden_state_input')\n",
    "\n",
    "        gru_out, gru_state_out = model.get_layer('Decoder-GRU')([dec_bn, gru_inference_state_input]) \n",
    "\n",
    "        dec_bn2 = model.get_layer('Decoder-BatchNorm-2')(gru_out)\n",
    "#         dec_bn2 = model.layers[-2](gru_out)\n",
    "\n",
    "        dense_out = model.get_layer('Final-Output-Dense')(dec_bn2)\n",
    "\n",
    "        decoder_model = Model([decoder_inputs, gru_inference_state_input],\n",
    "                              [dense_out, gru_state_out])\n",
    "        return decoder_model\n",
    "    \n",
    "    def create_title(self, body_text, original_title_text=None):\n",
    "        word2idx_title = self.tk_title.word_index\n",
    "        idx2word_title = {v: k for k, v in word2idx_title.items()}\n",
    "\n",
    "        raw_tokenized = self.tk_body.texts_to_sequences([body_text])\n",
    "        raw_tokenized = pad_sequences(raw_tokenized, self.maxlen_body)\n",
    "        body_encoding = self.encoder_model.predict(raw_tokenized)\n",
    "\n",
    "        original_body_encoding = body_encoding\n",
    "        state_value = np.array(word2idx_title[\"'start'\"]).reshape(1, 1)        \n",
    "\n",
    "        decoded_sentence = []\n",
    "        stop_condition = False\n",
    "        while not stop_condition:\n",
    "            preds, st = self.decoder_model.predict([state_value, body_encoding])\n",
    "\n",
    "            pred_idx = np.argmax(preds[:, :, 2:]) + 2\n",
    "\n",
    "            pred_word_str = idx2word_title[pred_idx]\n",
    "\n",
    "            if pred_word_str == \"'end'\" or len(decoded_sentence) >= self.maxlen_title:\n",
    "                stop_condition = True\n",
    "                break\n",
    "            decoded_sentence.append(pred_word_str)\n",
    "\n",
    "            # update the decoder for the next word\n",
    "            body_encoding = st\n",
    "            state_value = np.array(pred_idx).reshape(1, 1)\n",
    "\n",
    "        return ' '.join(decoded_sentence)"
   ]
  },
  {
   "cell_type": "code",
   "execution_count": 61,
   "metadata": {},
   "outputs": [
    {
     "name": "stdout",
     "output_type": "stream",
     "text": [
      "writing delayed scroll day lazy lazy xp tile rather websites krav locked\n",
      "editors lifecycle wizard zero tc portal tela unused detect angular2 reflection lookup\n",
      "editors met learn multiline pool factory association wiki mapping corrupted gone posts\n",
      "consume mac tokens 38 data data rendering rendering prefixes figure julia training\n"
     ]
    }
   ],
   "source": [
    "p = Predictor(seq2seq_Model, tk_body, tk_title, BODY_LENGTH, 12)\n",
    "\n",
    "for sample in SAMPLE_BODIES:\n",
    "    print(p.create_title(sample))"
   ]
  },
  {
   "cell_type": "code",
   "execution_count": 62,
   "metadata": {},
   "outputs": [
    {
     "name": "stdout",
     "output_type": "stream",
     "text": [
      "__________________________________________________________________________________________________\n",
      "Layer (type)                    Output Shape         Param #     Connected to                     \n",
      "==================================================================================================\n",
      "Decoder-Input (InputLayer)      (None, None)         0                                            \n",
      "__________________________________________________________________________________________________\n",
      "Title-Word-Embedding (Embedding (None, None, 300)    1350000     Decoder-Input[0][0]              \n",
      "__________________________________________________________________________________________________\n",
      "Encoder-Input (InputLayer)      (None, 70)           0                                            \n",
      "__________________________________________________________________________________________________\n",
      "Decoder-BatchNorm-1 (BatchNorma (None, None, 300)    1200        Title-Word-Embedding[0][0]       \n",
      "__________________________________________________________________________________________________\n",
      "Encoder-Model (Model)           (None, 300)          2942100     Encoder-Input[0][0]              \n",
      "__________________________________________________________________________________________________\n",
      "Decoder-GRU (GRU)               [(None, None, 300),  540900      Decoder-BatchNorm-1[0][0]        \n",
      "                                                                 Encoder-Model[1][0]              \n",
      "__________________________________________________________________________________________________\n",
      "Decoder-BatchNorm-2 (TimeDistri (None, None, 300)    1200        Decoder-GRU[0][0]                \n",
      "__________________________________________________________________________________________________\n",
      "Final-Output-Dense (Dense)      (None, None, 4500)   1354500     Decoder-BatchNorm-2[0][0]        \n",
      "==================================================================================================\n",
      "Total params: 6,189,900\n",
      "Trainable params: 6,188,100\n",
      "Non-trainable params: 1,800\n",
      "__________________________________________________________________________________________________\n"
     ]
    }
   ],
   "source": [
    "seq2seq_Model.summary()"
   ]
  },
  {
   "cell_type": "code",
   "execution_count": 63,
   "metadata": {},
   "outputs": [],
   "source": [
    "from keras.utils import plot_model\n",
    "plot_model(seq2seq_Model, to_file='model.png')"
   ]
  },
  {
   "cell_type": "markdown",
   "metadata": {},
   "source": [
    "# Train Model"
   ]
  },
  {
   "cell_type": "code",
   "execution_count": 64,
   "metadata": {},
   "outputs": [],
   "source": [
    "SAMPLE_BODIES = [\"\"\"\n",
    "hi, i'm trying to get the deep link working. \n",
    "i can send the activity, open the app and read dashcode and get booleanextra and all that. \n",
    "so activating the deep link works fine and for example when i call getaction, \n",
    "it returns android.intent.action.view which is correct. \n",
    "the main problem is that getdatastring and getscheme always return null. \n",
    "i'm out of test ideas. do you think its a bug? i have attached the manifest file for your reference. \n",
    "and i'm using gvrintent.getdata that always returns null. \n",
    "islaunchedfromvr and getintenthashcode are working fine. \n",
    "and this is the command line i used to test as an example: \n",
    "./adb shell am start -w -a android.intent.action.view -d shapevisual://com.shapevisual.app?wl=gfs com.shapevisual.app androidmanifest.xml.txt https://github.com/googlevr/gvr-unity-sdk/files/864522/androidmanifest.xml.txt\n",
    "\"\"\",\n",
    "\"\"\"\n",
    "issue overview add a new property to disable detection of image stream files those ended with -is.yml \n",
    "from target directory. expected behaviour by default cube should not process image stream files \n",
    "if user does not set it. current behaviour cube always try to execute -is.yml files \n",
    "which can cause some problems in most of cases, for example if you are using kuberentes \n",
    "instead of openshift or if you use together fabric8 maven plugin with cube. \n",
    "\"\"\",\n",
    "\"\"\"\n",
    "i'm using highstockcharts and recently upgraded to v6.0.3. since then, the tooltips won't be shown anymore \n",
    "as soon as the tooltip is higher than the actual chart. see the minimum example which i've provided. \n",
    "expected behaviour the tooltip should be shown. actual behaviour the tooltip is not shown if the tooltip \n",
    "the height is larger than the actual chart. live demo with steps to reproduce http://jsfiddle.net/n1h3q3sr/ \n",
    "uncomment the part teststring += <br/> not working anymore to make the tooltip visible. \n",
    "affected browser s chrome / firefox and most probably ie too\n",
    "\"\"\",\n",
    "\"\"\"\n",
    "i created a form 'contact' and it seems to work but the form labels do not appear on the form \n",
    "so it is a bit useless. please get the labels to appear and merge and release with other improvements asap\n",
    "\"\"\"]"
   ]
  },
  {
   "cell_type": "code",
   "execution_count": 3,
   "metadata": {},
   "outputs": [
    {
     "name": "stdout",
     "output_type": "stream",
     "text": [
      "Size of vocabulary for tk_body.dpkl: 8000\n",
      "Size of vocabulary for tk_title.dpkl: 4500\n"
     ]
    }
   ],
   "source": [
    "from IPython.display import Audio, display\n",
    "from Helpers import load_tokenizer\n",
    "from keras.callbacks import Callback\n",
    "\n",
    "tk_body = load_tokenizer('tk_body.dpkl')\n",
    "tk_title = load_tokenizer('tk_title.dpkl')\n",
    "\n",
    "\n",
    "class LossHistory(Callback):\n",
    "    def on_epoch_end(self, epoch, logs):\n",
    "        display(Audio(filename='notification.mp3', autoplay=True))\n",
    "        print('\\n')\n",
    "        print('epoch: {}'.format(epoch))\n",
    "        print('val_loss: {}'.format(logs.get('val_loss')))\n",
    "        \n",
    "        predictor = Predictor(seq2seq_Model, tk_body, tk_title, BODY_LENGTH, 12)\n",
    "        \n",
    "        for body in SAMPLE_BODIES:\n",
    "            title = predictor.create_title(body)\n",
    "            print('Generated title: {}'.format(title))"
   ]
  },
  {
   "cell_type": "code",
   "execution_count": 19,
   "metadata": {},
   "outputs": [
    {
     "name": "stdout",
     "output_type": "stream",
     "text": [
      "Shape of encoder input: (1800000, 70)\n",
      "Shape of decoder input: (1800000, 11)\n",
      "Shape of decoder target: (1800000, 11)\n"
     ]
    }
   ],
   "source": [
    "from Helpers import load_encoder_inputs, load_decoder_inputs\n",
    "\n",
    "encoder_input_data, _ = load_encoder_inputs('train_body_vecs.npy')\n",
    "decoder_input_data, decoder_target_data = load_decoder_inputs('train_title_vecs.npy')"
   ]
  },
  {
   "cell_type": "code",
   "execution_count": 66,
   "metadata": {
    "scrolled": true
   },
   "outputs": [
    {
     "name": "stdout",
     "output_type": "stream",
     "text": [
      "Train on 1584000 samples, validate on 216000 samples\n",
      "Epoch 1/8\n",
      "1582800/1584000 [============================>.] - ETA: 0s - loss: 2.6045"
     ]
    },
    {
     "data": {
      "text/html": [
       "\n",
       "                <audio controls=\"controls\" autoplay=\"autoplay\">\n",
       "                    <source src=\"data:audio/mpeg;base64,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\" type=\"audio/mpeg\" />\n",
       "                    Your browser does not support the audio element.\n",
       "                </audio>\n",
       "              "
      ],
      "text/plain": [
       "<IPython.lib.display.Audio object>"
      ]
     },
     "metadata": {},
     "output_type": "display_data"
    },
    {
     "name": "stdout",
     "output_type": "stream",
     "text": [
      "\n",
      "\n",
      "epoch: 0\n",
      "val_loss: 2.3239502323998344\n",
      "Generated title: android sdk fails to work\n",
      "Generated title: disable detection of images\n",
      "Generated title: tooltip tooltip is not visible\n",
      "Generated title: form labels are not working\n",
      "Epoch 00001: saving model to /tmp/models_bi1_tdBatchNorm2.01-2.32.hdf5\n"
     ]
    },
    {
     "name": "stderr",
     "output_type": "stream",
     "text": [
      "/home/richard/deep_learn_p3/lib/python3.5/site-packages/keras/engine/topology.py:2344: UserWarning: Layer Decoder-GRU was passed non-serializable keyword arguments: {'initial_state': [<tf.Tensor 'Encoder-Model_3/Encoder-Last-GRU/while/Exit_2:0' shape=(?, 300) dtype=float32>]}. They will not be included in the serialized model (and thus will be missing at deserialization time).\n",
      "  str(node.arguments) + '. They will not be included '\n"
     ]
    },
    {
     "name": "stdout",
     "output_type": "stream",
     "text": [
      "1584000/1584000 [==============================] - 304s 192us/step - loss: 2.6042 - val_loss: 2.3240\n",
      "Epoch 2/8\n",
      "1582800/1584000 [============================>.] - ETA: 0s - loss: 2.2403"
     ]
    },
    {
     "data": {
      "text/html": [
       "\n",
       "                <audio controls=\"controls\" autoplay=\"autoplay\">\n",
       "                    <source src=\"data:audio/mpeg;base64,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\" type=\"audio/mpeg\" />\n",
       "                    Your browser does not support the audio element.\n",
       "                </audio>\n",
       "              "
      ],
      "text/plain": [
       "<IPython.lib.display.Audio object>"
      ]
     },
     "metadata": {},
     "output_type": "display_data"
    },
    {
     "name": "stdout",
     "output_type": "stream",
     "text": [
      "\n",
      "\n",
      "epoch: 1\n",
      "val_loss: 2.2535875346925525\n",
      "Generated title: android app not working\n",
      "Generated title: detection of images in yml\n",
      "Generated title: tooltip not working\n",
      "Generated title: form labels are not\n",
      "Epoch 00002: saving model to /tmp/models_bi1_tdBatchNorm2.02-2.25.hdf5\n",
      "1584000/1584000 [==============================] - 307s 194us/step - loss: 2.2403 - val_loss: 2.2536\n",
      "Epoch 3/8\n",
      "1582800/1584000 [============================>.] - ETA: 0s - loss: 2.1586"
     ]
    },
    {
     "data": {
      "text/html": [
       "\n",
       "                <audio controls=\"controls\" autoplay=\"autoplay\">\n",
       "                    <source src=\"data:audio/mpeg;base64,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\" type=\"audio/mpeg\" />\n",
       "                    Your browser does not support the audio element.\n",
       "                </audio>\n",
       "              "
      ],
      "text/plain": [
       "<IPython.lib.display.Audio object>"
      ]
     },
     "metadata": {},
     "output_type": "display_data"
    },
    {
     "name": "stdout",
     "output_type": "stream",
     "text": [
      "\n",
      "\n",
      "epoch: 2\n",
      "val_loss: 2.2260388771692914\n",
      "Generated title: android app crashes when using\n",
      "Generated title: detection of images\n",
      "Generated title: tooltip not working on the chart\n",
      "Generated title: form labels are not appearing\n",
      "Epoch 00003: saving model to /tmp/models_bi1_tdBatchNorm2.03-2.23.hdf5\n",
      "1584000/1584000 [==============================] - 309s 195us/step - loss: 2.1585 - val_loss: 2.2260\n",
      "Epoch 4/8\n",
      "1582800/1584000 [============================>.] - ETA: 0s - loss: 2.1110"
     ]
    },
    {
     "data": {
      "text/html": [
       "\n",
       "                <audio controls=\"controls\" autoplay=\"autoplay\">\n",
       "                    <source src=\"data:audio/mpeg;base64,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\" type=\"audio/mpeg\" />\n",
       "                    Your browser does not support the audio element.\n",
       "                </audio>\n",
       "              "
      ],
      "text/plain": [
       "<IPython.lib.display.Audio object>"
      ]
     },
     "metadata": {},
     "output_type": "display_data"
    },
    {
     "name": "stdout",
     "output_type": "stream",
     "text": [
      "\n",
      "\n",
      "epoch: 3\n",
      "val_loss: 2.2150964736938477\n",
      "Generated title: android app crashes when using\n",
      "Generated title: detection of images by default\n",
      "Generated title: tooltip not working\n",
      "Generated title: form labels are not shown\n",
      "Epoch 00004: saving model to /tmp/models_bi1_tdBatchNorm2.04-2.22.hdf5\n",
      "1584000/1584000 [==============================] - 311s 196us/step - loss: 2.1110 - val_loss: 2.2151\n",
      "Epoch 5/8\n",
      "1582800/1584000 [============================>.] - ETA: 0s - loss: 2.0771"
     ]
    },
    {
     "data": {
      "text/html": [
       "\n",
       "                <audio controls=\"controls\" autoplay=\"autoplay\">\n",
       "                    <source src=\"data:audio/mpeg;base64,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\" type=\"audio/mpeg\" />\n",
       "                    Your browser does not support the audio element.\n",
       "                </audio>\n",
       "              "
      ],
      "text/plain": [
       "<IPython.lib.display.Audio object>"
      ]
     },
     "metadata": {},
     "output_type": "display_data"
    },
    {
     "name": "stdout",
     "output_type": "stream",
     "text": [
      "\n",
      "\n",
      "epoch: 4\n",
      "val_loss: 2.2134512742360433\n",
      "Generated title: null reference in\n",
      "Generated title: image detection should be ignored by default\n",
      "Generated title: tooltip not working\n",
      "Generated title: form labels are not\n",
      "Epoch 00005: saving model to /tmp/models_bi1_tdBatchNorm2.05-2.21.hdf5\n",
      "1584000/1584000 [==============================] - 313s 198us/step - loss: 2.0771 - val_loss: 2.2135\n",
      "Epoch 6/8\n",
      "  37200/1584000 [..............................] - ETA: 4:56 - loss: 2.0011"
     ]
    },
    {
     "ename": "KeyboardInterrupt",
     "evalue": "",
     "output_type": "error",
     "traceback": [
      "\u001b[0;31m---------------------------------------------------------------------------\u001b[0m",
      "\u001b[0;31mKeyboardInterrupt\u001b[0m                         Traceback (most recent call last)",
      "\u001b[0;32m<ipython-input-66-ed3f93b4544f>\u001b[0m in \u001b[0;36m<module>\u001b[0;34m()\u001b[0m\n\u001b[1;32m     12\u001b[0m                    \u001b[0mepochs\u001b[0m\u001b[0;34m=\u001b[0m\u001b[0mepochs\u001b[0m\u001b[0;34m,\u001b[0m\u001b[0;34m\u001b[0m\u001b[0m\n\u001b[1;32m     13\u001b[0m                    \u001b[0mvalidation_split\u001b[0m\u001b[0;34m=\u001b[0m\u001b[0;36m0.12\u001b[0m\u001b[0;34m,\u001b[0m\u001b[0;34m\u001b[0m\u001b[0m\n\u001b[0;32m---> 14\u001b[0;31m                    callbacks=[history, checkpointer])\n\u001b[0m",
      "\u001b[0;32m~/deep_learn_p3/lib/python3.5/site-packages/keras/engine/training.py\u001b[0m in \u001b[0;36mfit\u001b[0;34m(self, x, y, batch_size, epochs, verbose, callbacks, validation_split, validation_data, shuffle, class_weight, sample_weight, initial_epoch, steps_per_epoch, validation_steps, **kwargs)\u001b[0m\n\u001b[1;32m   1646\u001b[0m                               \u001b[0minitial_epoch\u001b[0m\u001b[0;34m=\u001b[0m\u001b[0minitial_epoch\u001b[0m\u001b[0;34m,\u001b[0m\u001b[0;34m\u001b[0m\u001b[0m\n\u001b[1;32m   1647\u001b[0m                               \u001b[0msteps_per_epoch\u001b[0m\u001b[0;34m=\u001b[0m\u001b[0msteps_per_epoch\u001b[0m\u001b[0;34m,\u001b[0m\u001b[0;34m\u001b[0m\u001b[0m\n\u001b[0;32m-> 1648\u001b[0;31m                               validation_steps=validation_steps)\n\u001b[0m\u001b[1;32m   1649\u001b[0m \u001b[0;34m\u001b[0m\u001b[0m\n\u001b[1;32m   1650\u001b[0m     def evaluate(self, x=None, y=None,\n",
      "\u001b[0;32m~/deep_learn_p3/lib/python3.5/site-packages/keras/engine/training.py\u001b[0m in \u001b[0;36m_fit_loop\u001b[0;34m(self, f, ins, out_labels, batch_size, epochs, verbose, callbacks, val_f, val_ins, shuffle, callback_metrics, initial_epoch, steps_per_epoch, validation_steps)\u001b[0m\n\u001b[1;32m   1211\u001b[0m                     \u001b[0mbatch_logs\u001b[0m\u001b[0;34m[\u001b[0m\u001b[0;34m'size'\u001b[0m\u001b[0;34m]\u001b[0m \u001b[0;34m=\u001b[0m \u001b[0mlen\u001b[0m\u001b[0;34m(\u001b[0m\u001b[0mbatch_ids\u001b[0m\u001b[0;34m)\u001b[0m\u001b[0;34m\u001b[0m\u001b[0m\n\u001b[1;32m   1212\u001b[0m                     \u001b[0mcallbacks\u001b[0m\u001b[0;34m.\u001b[0m\u001b[0mon_batch_begin\u001b[0m\u001b[0;34m(\u001b[0m\u001b[0mbatch_index\u001b[0m\u001b[0;34m,\u001b[0m \u001b[0mbatch_logs\u001b[0m\u001b[0;34m)\u001b[0m\u001b[0;34m\u001b[0m\u001b[0m\n\u001b[0;32m-> 1213\u001b[0;31m                     \u001b[0mouts\u001b[0m \u001b[0;34m=\u001b[0m \u001b[0mf\u001b[0m\u001b[0;34m(\u001b[0m\u001b[0mins_batch\u001b[0m\u001b[0;34m)\u001b[0m\u001b[0;34m\u001b[0m\u001b[0m\n\u001b[0m\u001b[1;32m   1214\u001b[0m                     \u001b[0;32mif\u001b[0m \u001b[0;32mnot\u001b[0m \u001b[0misinstance\u001b[0m\u001b[0;34m(\u001b[0m\u001b[0mouts\u001b[0m\u001b[0;34m,\u001b[0m \u001b[0mlist\u001b[0m\u001b[0;34m)\u001b[0m\u001b[0;34m:\u001b[0m\u001b[0;34m\u001b[0m\u001b[0m\n\u001b[1;32m   1215\u001b[0m                         \u001b[0mouts\u001b[0m \u001b[0;34m=\u001b[0m \u001b[0;34m[\u001b[0m\u001b[0mouts\u001b[0m\u001b[0;34m]\u001b[0m\u001b[0;34m\u001b[0m\u001b[0m\n",
      "\u001b[0;32m~/deep_learn_p3/lib/python3.5/site-packages/keras/backend/tensorflow_backend.py\u001b[0m in \u001b[0;36m__call__\u001b[0;34m(self, inputs)\u001b[0m\n\u001b[1;32m   2350\u001b[0m         \u001b[0msession\u001b[0m \u001b[0;34m=\u001b[0m \u001b[0mget_session\u001b[0m\u001b[0;34m(\u001b[0m\u001b[0;34m)\u001b[0m\u001b[0;34m\u001b[0m\u001b[0m\n\u001b[1;32m   2351\u001b[0m         updated = session.run(fetches=fetches, feed_dict=feed_dict,\n\u001b[0;32m-> 2352\u001b[0;31m                               **self.session_kwargs)\n\u001b[0m\u001b[1;32m   2353\u001b[0m         \u001b[0;32mreturn\u001b[0m \u001b[0mupdated\u001b[0m\u001b[0;34m[\u001b[0m\u001b[0;34m:\u001b[0m\u001b[0mlen\u001b[0m\u001b[0;34m(\u001b[0m\u001b[0mself\u001b[0m\u001b[0;34m.\u001b[0m\u001b[0moutputs\u001b[0m\u001b[0;34m)\u001b[0m\u001b[0;34m]\u001b[0m\u001b[0;34m\u001b[0m\u001b[0m\n\u001b[1;32m   2354\u001b[0m \u001b[0;34m\u001b[0m\u001b[0m\n",
      "\u001b[0;32m~/deep_learn_p3/lib/python3.5/site-packages/tensorflow/python/client/session.py\u001b[0m in \u001b[0;36mrun\u001b[0;34m(self, fetches, feed_dict, options, run_metadata)\u001b[0m\n\u001b[1;32m    887\u001b[0m     \u001b[0;32mtry\u001b[0m\u001b[0;34m:\u001b[0m\u001b[0;34m\u001b[0m\u001b[0m\n\u001b[1;32m    888\u001b[0m       result = self._run(None, fetches, feed_dict, options_ptr,\n\u001b[0;32m--> 889\u001b[0;31m                          run_metadata_ptr)\n\u001b[0m\u001b[1;32m    890\u001b[0m       \u001b[0;32mif\u001b[0m \u001b[0mrun_metadata\u001b[0m\u001b[0;34m:\u001b[0m\u001b[0;34m\u001b[0m\u001b[0m\n\u001b[1;32m    891\u001b[0m         \u001b[0mproto_data\u001b[0m \u001b[0;34m=\u001b[0m \u001b[0mtf_session\u001b[0m\u001b[0;34m.\u001b[0m\u001b[0mTF_GetBuffer\u001b[0m\u001b[0;34m(\u001b[0m\u001b[0mrun_metadata_ptr\u001b[0m\u001b[0;34m)\u001b[0m\u001b[0;34m\u001b[0m\u001b[0m\n",
      "\u001b[0;32m~/deep_learn_p3/lib/python3.5/site-packages/tensorflow/python/client/session.py\u001b[0m in \u001b[0;36m_run\u001b[0;34m(self, handle, fetches, feed_dict, options, run_metadata)\u001b[0m\n\u001b[1;32m   1118\u001b[0m     \u001b[0;32mif\u001b[0m \u001b[0mfinal_fetches\u001b[0m \u001b[0;32mor\u001b[0m \u001b[0mfinal_targets\u001b[0m \u001b[0;32mor\u001b[0m \u001b[0;34m(\u001b[0m\u001b[0mhandle\u001b[0m \u001b[0;32mand\u001b[0m \u001b[0mfeed_dict_tensor\u001b[0m\u001b[0;34m)\u001b[0m\u001b[0;34m:\u001b[0m\u001b[0;34m\u001b[0m\u001b[0m\n\u001b[1;32m   1119\u001b[0m       results = self._do_run(handle, final_targets, final_fetches,\n\u001b[0;32m-> 1120\u001b[0;31m                              feed_dict_tensor, options, run_metadata)\n\u001b[0m\u001b[1;32m   1121\u001b[0m     \u001b[0;32melse\u001b[0m\u001b[0;34m:\u001b[0m\u001b[0;34m\u001b[0m\u001b[0m\n\u001b[1;32m   1122\u001b[0m       \u001b[0mresults\u001b[0m \u001b[0;34m=\u001b[0m \u001b[0;34m[\u001b[0m\u001b[0;34m]\u001b[0m\u001b[0;34m\u001b[0m\u001b[0m\n",
      "\u001b[0;32m~/deep_learn_p3/lib/python3.5/site-packages/tensorflow/python/client/session.py\u001b[0m in \u001b[0;36m_do_run\u001b[0;34m(self, handle, target_list, fetch_list, feed_dict, options, run_metadata)\u001b[0m\n\u001b[1;32m   1315\u001b[0m     \u001b[0;32mif\u001b[0m \u001b[0mhandle\u001b[0m \u001b[0;32mis\u001b[0m \u001b[0;32mNone\u001b[0m\u001b[0;34m:\u001b[0m\u001b[0;34m\u001b[0m\u001b[0m\n\u001b[1;32m   1316\u001b[0m       return self._do_call(_run_fn, self._session, feeds, fetches, targets,\n\u001b[0;32m-> 1317\u001b[0;31m                            options, run_metadata)\n\u001b[0m\u001b[1;32m   1318\u001b[0m     \u001b[0;32melse\u001b[0m\u001b[0;34m:\u001b[0m\u001b[0;34m\u001b[0m\u001b[0m\n\u001b[1;32m   1319\u001b[0m       \u001b[0;32mreturn\u001b[0m \u001b[0mself\u001b[0m\u001b[0;34m.\u001b[0m\u001b[0m_do_call\u001b[0m\u001b[0;34m(\u001b[0m\u001b[0m_prun_fn\u001b[0m\u001b[0;34m,\u001b[0m \u001b[0mself\u001b[0m\u001b[0;34m.\u001b[0m\u001b[0m_session\u001b[0m\u001b[0;34m,\u001b[0m \u001b[0mhandle\u001b[0m\u001b[0;34m,\u001b[0m \u001b[0mfeeds\u001b[0m\u001b[0;34m,\u001b[0m \u001b[0mfetches\u001b[0m\u001b[0;34m)\u001b[0m\u001b[0;34m\u001b[0m\u001b[0m\n",
      "\u001b[0;32m~/deep_learn_p3/lib/python3.5/site-packages/tensorflow/python/client/session.py\u001b[0m in \u001b[0;36m_do_call\u001b[0;34m(self, fn, *args)\u001b[0m\n\u001b[1;32m   1321\u001b[0m   \u001b[0;32mdef\u001b[0m \u001b[0m_do_call\u001b[0m\u001b[0;34m(\u001b[0m\u001b[0mself\u001b[0m\u001b[0;34m,\u001b[0m \u001b[0mfn\u001b[0m\u001b[0;34m,\u001b[0m \u001b[0;34m*\u001b[0m\u001b[0margs\u001b[0m\u001b[0;34m)\u001b[0m\u001b[0;34m:\u001b[0m\u001b[0;34m\u001b[0m\u001b[0m\n\u001b[1;32m   1322\u001b[0m     \u001b[0;32mtry\u001b[0m\u001b[0;34m:\u001b[0m\u001b[0;34m\u001b[0m\u001b[0m\n\u001b[0;32m-> 1323\u001b[0;31m       \u001b[0;32mreturn\u001b[0m \u001b[0mfn\u001b[0m\u001b[0;34m(\u001b[0m\u001b[0;34m*\u001b[0m\u001b[0margs\u001b[0m\u001b[0;34m)\u001b[0m\u001b[0;34m\u001b[0m\u001b[0m\n\u001b[0m\u001b[1;32m   1324\u001b[0m     \u001b[0;32mexcept\u001b[0m \u001b[0merrors\u001b[0m\u001b[0;34m.\u001b[0m\u001b[0mOpError\u001b[0m \u001b[0;32mas\u001b[0m \u001b[0me\u001b[0m\u001b[0;34m:\u001b[0m\u001b[0;34m\u001b[0m\u001b[0m\n\u001b[1;32m   1325\u001b[0m       \u001b[0mmessage\u001b[0m \u001b[0;34m=\u001b[0m \u001b[0mcompat\u001b[0m\u001b[0;34m.\u001b[0m\u001b[0mas_text\u001b[0m\u001b[0;34m(\u001b[0m\u001b[0me\u001b[0m\u001b[0;34m.\u001b[0m\u001b[0mmessage\u001b[0m\u001b[0;34m)\u001b[0m\u001b[0;34m\u001b[0m\u001b[0m\n",
      "\u001b[0;32m~/deep_learn_p3/lib/python3.5/site-packages/tensorflow/python/client/session.py\u001b[0m in \u001b[0;36m_run_fn\u001b[0;34m(session, feed_dict, fetch_list, target_list, options, run_metadata)\u001b[0m\n\u001b[1;32m   1300\u001b[0m           return tf_session.TF_Run(session, options,\n\u001b[1;32m   1301\u001b[0m                                    \u001b[0mfeed_dict\u001b[0m\u001b[0;34m,\u001b[0m \u001b[0mfetch_list\u001b[0m\u001b[0;34m,\u001b[0m \u001b[0mtarget_list\u001b[0m\u001b[0;34m,\u001b[0m\u001b[0;34m\u001b[0m\u001b[0m\n\u001b[0;32m-> 1302\u001b[0;31m                                    status, run_metadata)\n\u001b[0m\u001b[1;32m   1303\u001b[0m \u001b[0;34m\u001b[0m\u001b[0m\n\u001b[1;32m   1304\u001b[0m     \u001b[0;32mdef\u001b[0m \u001b[0m_prun_fn\u001b[0m\u001b[0;34m(\u001b[0m\u001b[0msession\u001b[0m\u001b[0;34m,\u001b[0m \u001b[0mhandle\u001b[0m\u001b[0;34m,\u001b[0m \u001b[0mfeed_dict\u001b[0m\u001b[0;34m,\u001b[0m \u001b[0mfetch_list\u001b[0m\u001b[0;34m)\u001b[0m\u001b[0;34m:\u001b[0m\u001b[0;34m\u001b[0m\u001b[0m\n",
      "\u001b[0;31mKeyboardInterrupt\u001b[0m: "
     ]
    }
   ],
   "source": [
    "import numpy as np\n",
    "from keras.callbacks import ModelCheckpoint\n",
    "\n",
    "batch_size = 1200\n",
    "epochs = 8\n",
    "history = LossHistory()\n",
    "checkpointer = ModelCheckpoint(filepath='/tmp/models_bi1_tdBatchNorm2.{epoch:02d}-{val_loss:.2f}.hdf5', \n",
    "                               verbose=1)\n",
    "\n",
    "seq2seq_Model.fit([encoder_input_data, decoder_input_data], np.expand_dims(decoder_target_data, -1),\n",
    "                   batch_size=batch_size,\n",
    "                   epochs=epochs,\n",
    "                   validation_split=0.12, \n",
    "                   callbacks=[history, checkpointer])"
   ]
  },
  {
   "cell_type": "markdown",
   "metadata": {},
   "source": [
    "# See Results"
   ]
  },
  {
   "cell_type": "code",
   "execution_count": 8,
   "metadata": {},
   "outputs": [],
   "source": [
    "from keras.models import load_model\n",
    "\n",
    "p1 = Predictor(load_model('/tmp/models_bi1_tdBatchNorm2.01-2.32.hdf5'), \n",
    "               tk_body, tk_title, BODY_LENGTH, 12)\n",
    "p2 = Predictor(load_model('/tmp/models_bi1_tdBatchNorm2.02-2.25.hdf5'), \n",
    "               tk_body, tk_title, BODY_LENGTH, 12)\n",
    "p3 = Predictor(load_model('/tmp/models_bi1_tdBatchNorm2.03-2.23.hdf5'), \n",
    "               tk_body, tk_title, BODY_LENGTH, 12)\n",
    "p4 = Predictor(load_model('/tmp/models_bi1_tdBatchNorm2.04-2.22.hdf5'), \n",
    "               tk_body, tk_title, BODY_LENGTH, 12)\n",
    "p5 = Predictor(load_model('/tmp/models_bi1_tdBatchNorm2.05-2.21.hdf5'), \n",
    "               tk_body, tk_title, BODY_LENGTH, 12)"
   ]
  },
  {
   "cell_type": "code",
   "execution_count": 16,
   "metadata": {},
   "outputs": [
    {
     "name": "stdout",
     "output_type": "stream",
     "text": [
      "lstm data model\n",
      "question how to use lstm\n",
      "question about lstm\n",
      "lstm\n",
      "how to use lstm\n",
      "\n",
      "\n",
      "cannot import\n",
      "import error\n",
      "cannot import\n",
      "error with\n",
      "import error\n",
      "\n",
      "\n",
      "multiple sheets\n",
      "multiple sheets with multiple\n",
      "multiple on same sheet\n",
      "multiple sheets with multiple\n",
      "multiple on same sheet\n",
      "\n",
      "\n",
      "android crash\n",
      "camera aspect ratio\n",
      "camera aspect ratio\n",
      "camera aspect ratio\n",
      "android camera preview\n",
      "\n",
      "\n",
      "modal for\n",
      "modal for\n",
      "modal for\n",
      "modal dialog\n",
      "modal overlay\n",
      "\n",
      "\n",
      "react native\n",
      "react native version\n",
      "react native\n",
      "react native 0 40\n",
      "react native\n",
      "\n",
      "\n"
     ]
    }
   ],
   "source": [
    "SAMPLE_BODIES = [\n",
    "    \"\"\"\n",
    "I am developing a neural network in order to classify timeseries data. I know for timeseries LSTM would be right approach but I am using https://github.com/cerndb/dist-keras where before passing it to a trainer dataset has to be spark dataframe format.\n",
    "\n",
    "I am following this example http://vict0rsch.github.io/tutorials/keras/recurrent/ and task here is to port this example to dist-keras. Timestep is 50 which means model would take 0-49 and predict 50 and so on. As you can see in the example that data is being pre-processed using numpy before being fed to keras. Since dist-keras requires data to be in spark dataframe, I have to take a different approach which is as follows:\n",
    "\n",
    "I have straightaway created the DF:\n",
    "\n",
    "X_train = train[:, :] y_train = train[:, -1] raw_dataset_train = sc.createDataFrame(X_train.tolist())\n",
    "\n",
    "Above code will create a DF having 50 columns(timestep is 50) from 0 to _50.\n",
    "\n",
    "Remove the _50 column which is the label in our case and then applying the vector assembler to all features:\n",
    "\n",
    "features = raw_dataset_train.columns features.remove('_50') vector_assembler = VectorAssembler(inputCols=features, outputCol=\"features\") dataset_train = vector_assembler.transform(raw_dataset_train)\n",
    "\n",
    "Now, each row of DF contains 2 columns. First column contains the features and second contains the label(_50 column which I want to train on and later predict on). As I see it, it become a classification problem. My issues are below:\n",
    "\n",
    "If my approach is right, then how would I defines output label for my data as their are no finite number here for output column. It could be same number as number of rows in DF.\n",
    "\n",
    "Do I still need LSTM layers in my model? I am asking this because I have processed the data in non-lstm kind of way.(At least that is what I think. I might be wrong.)\n",
    "\n",
    "Please advice and let me know if you need more clarification or information on this.\n",
    "    \"\"\",\n",
    "    \"\"\"\n",
    "I'm trying to use Intel NLP Architect and its example has this line that makes it not working:\n",
    "\n",
    ">>> from keras.engine import saving\n",
    "Using TensorFlow backend.\n",
    "Traceback (most recent call last):\n",
    "  File \"<stdin>\", line 1, in <module>\n",
    "ImportError: cannot import name 'saving'\n",
    "Anyone knows how to fix it? Thank you!\n",
    "Also this is a link to the whole framework: http://nlp_architect.nervanasys.com/ner_crf.html But the line that makes it not working is just that one line.\n",
    "    \"\"\",\n",
    "    \"\"\"\n",
    "Can multiple barcodes be scanned at once?\n",
    "For example, scanning a sheet of paper with multiple barcodes printed on it.\n",
    "If not possible, any recommendations on how to do it would be greatly appreciated.\n",
    "    \"\"\",\n",
    "    \"\"\"\n",
    "I call getSupportedRatiosAsync for Android setup, which (I guess) result in crash as follows.\n",
    "\n",
    "react-native-camera/android/src/main/java/org/reactnative/camera/RNCameraView.java\n",
    "\n",
    "Line 191 in 60b9ef1\n",
    "\n",
    " preview.layout(paddingX, paddingY, correctWidth + paddingX, correctHeight + paddingY); \n",
    "I get width / height ratio list and set camera aspect ratio to closest one. Some phone generates this error which I found Crashlytics. I guess this line needs some protective code.\n",
    "    \"\"\",\n",
    "    \"\"\"\n",
    "Hello everyone!\n",
    "I wanted to open this \"thread\" to get some feedback on a new implementation of react-native-modal I'm building.\n",
    "\n",
    "As you may already know, the current version of react-native-modal is based on react-native's original modal, which, unfortunately, has many different issues that are difficult to solve since it would involve native code.\n",
    "\n",
    "To completely solve (almost all of) these issues I'm building a 100% Javascript version of react-native-modal that doesn't use the react-native's original modal.\n",
    "The main issue of using a total JS solution is that you should place it on the root of you app to make it work (because otherwise the modal won't be able to overlay the entire screen), but I'm testing a portal-like solution that should overcome this block (and it seems to be working!).\n",
    "\n",
    "Are you interested in it?\n",
    "Do you think it would solve any of your issues with the current modal?\n",
    "Do you think it would be useful releasing this WIP in a separate beta branch?\n",
    "\n",
    "Any feedback is welcome!\n",
    "    \"\"\",\n",
    "    \"\"\"\n",
    "As the title suggest, in my opinion it is better to have react-native-animatable as a peer dependency instead.\n",
    "\n",
    "I think it is reasonable enough as react-native-animatable is a frequently used library in my experience. The motivation is of course to eliminate unnecessary duplications and move the control over to the user of this library. react-native-animatable changes quite infrequently (judging by the releases on github), so it is very likely that both users' local version and react-native-modal's version will semantically match and it won't cause any pains.\n",
    "\n",
    "Let me know what you think. Cheers!\n",
    "    \"\"\"\n",
    "]\n",
    "\n",
    "for body in SAMPLE_BODIES:\n",
    "    print(p1.create_title(body))\n",
    "    print(p2.create_title(body))\n",
    "    print(p3.create_title(body))\n",
    "    print(p4.create_title(body))\n",
    "    print(p5.create_title(body))\n",
    "    print('\\n')"
   ]
  },
  {
   "cell_type": "code",
   "execution_count": null,
   "metadata": {},
   "outputs": [],
   "source": []
  },
  {
   "cell_type": "code",
   "execution_count": null,
   "metadata": {},
   "outputs": [],
   "source": []
  },
  {
   "cell_type": "code",
   "execution_count": null,
   "metadata": {},
   "outputs": [],
   "source": []
  },
  {
   "cell_type": "code",
   "execution_count": null,
   "metadata": {},
   "outputs": [],
   "source": []
  }
 ],
 "metadata": {
  "kernelspec": {
   "display_name": "Python 3",
   "language": "python",
   "name": "python3"
  },
  "language_info": {
   "codemirror_mode": {
    "name": "ipython",
    "version": 3
   },
   "file_extension": ".py",
   "mimetype": "text/x-python",
   "name": "python",
   "nbconvert_exporter": "python",
   "pygments_lexer": "ipython3",
   "version": "3.5.2"
  }
 },
 "nbformat": 4,
 "nbformat_minor": 2
}
