{
 "cells": [
  {
   "cell_type": "markdown",
   "metadata": {},
   "source": [
    "# Import data"
   ]
  },
  {
   "cell_type": "code",
   "execution_count": 2,
   "metadata": {},
   "outputs": [],
   "source": [
    "import numpy as np\n",
    "import pandas as pd\n",
    "from sklearn.model_selection import train_test_split"
   ]
  },
  {
   "cell_type": "code",
   "execution_count": 5,
   "metadata": {},
   "outputs": [
    {
     "name": "stdout",
     "output_type": "stream",
     "text": [
      "Train: 477000 rows 3 columns\n",
      "Test: 53000 rows 3 columns\n"
     ]
    },
    {
     "data": {
      "text/html": [
       "<div>\n",
       "<style scoped>\n",
       "    .dataframe tbody tr th:only-of-type {\n",
       "        vertical-align: middle;\n",
       "    }\n",
       "\n",
       "    .dataframe tbody tr th {\n",
       "        vertical-align: top;\n",
       "    }\n",
       "\n",
       "    .dataframe thead th {\n",
       "        text-align: right;\n",
       "    }\n",
       "</style>\n",
       "<table border=\"1\" class=\"dataframe\">\n",
       "  <thead>\n",
       "    <tr style=\"text-align: right;\">\n",
       "      <th></th>\n",
       "      <th>issue_url</th>\n",
       "      <th>issue_title</th>\n",
       "      <th>body</th>\n",
       "    </tr>\n",
       "  </thead>\n",
       "  <tbody>\n",
       "    <tr>\n",
       "      <th>2934288</th>\n",
       "      <td>\"https://github.com/devpunks/snuggsi/issues/88\"</td>\n",
       "      <td>chalk text font for &lt;aside&gt; example pane</td>\n",
       "      <td>as per a conversation with claudia. crayon cru...</td>\n",
       "    </tr>\n",
       "    <tr>\n",
       "      <th>871263</th>\n",
       "      <td>\"https://github.com/nuveo/prest/issues/179\"</td>\n",
       "      <td>bug on windows platform using toml config files</td>\n",
       "      <td>in config.go file the class path instead of fi...</td>\n",
       "    </tr>\n",
       "    <tr>\n",
       "      <th>4466424</th>\n",
       "      <td>\"https://github.com/0todd0000/spm1dmatlab/issu...</td>\n",
       "      <td>effect size and power calculations</td>\n",
       "      <td>hi todd, hope you are well! we have a phd stud...</td>\n",
       "    </tr>\n",
       "    <tr>\n",
       "      <th>4264435</th>\n",
       "      <td>\"https://github.com/teodorpatras/SideMenuContr...</td>\n",
       "      <td>this application is modifying the autolayout e...</td>\n",
       "      <td>we have this issue with autolayout. when we tu...</td>\n",
       "    </tr>\n",
       "    <tr>\n",
       "      <th>4428171</th>\n",
       "      <td>\"https://github.com/handsontable/handsontable/...</td>\n",
       "      <td>autofill broken on merged cells</td>\n",
       "      <td>description what happens: an error in the cons...</td>\n",
       "    </tr>\n",
       "  </tbody>\n",
       "</table>\n",
       "</div>"
      ],
      "text/plain": [
       "                                                 issue_url  \\\n",
       "2934288    \"https://github.com/devpunks/snuggsi/issues/88\"   \n",
       "871263         \"https://github.com/nuveo/prest/issues/179\"   \n",
       "4466424  \"https://github.com/0todd0000/spm1dmatlab/issu...   \n",
       "4264435  \"https://github.com/teodorpatras/SideMenuContr...   \n",
       "4428171  \"https://github.com/handsontable/handsontable/...   \n",
       "\n",
       "                                               issue_title  \\\n",
       "2934288           chalk text font for <aside> example pane   \n",
       "871263     bug on windows platform using toml config files   \n",
       "4466424                 effect size and power calculations   \n",
       "4264435  this application is modifying the autolayout e...   \n",
       "4428171                    autofill broken on merged cells   \n",
       "\n",
       "                                                      body  \n",
       "2934288  as per a conversation with claudia. crayon cru...  \n",
       "871263   in config.go file the class path instead of fi...  \n",
       "4466424  hi todd, hope you are well! we have a phd stud...  \n",
       "4264435  we have this issue with autolayout. when we tu...  \n",
       "4428171  description what happens: an error in the cons...  "
      ]
     },
     "execution_count": 5,
     "metadata": {},
     "output_type": "execute_result"
    }
   ],
   "source": [
    "# 5,332,153 rows × 3 columns\n",
    "traindf, testdf = train_test_split(pd.read_csv('github_issues.csv').sample(n=530000), \n",
    "                                   test_size=.10, random_state=0)\n",
    "\n",
    "#print out stats about shape of data\n",
    "print('Train: {} rows {} columns'.format(traindf.shape[0],traindf.shape[1]))\n",
    "print('Test: {} rows {} columns'.format(testdf.shape[0],testdf.shape[1]))\n",
    "\n",
    "traindf.head()"
   ]
  },
  {
   "cell_type": "code",
   "execution_count": 6,
   "metadata": {},
   "outputs": [],
   "source": [
    "train_body_raw = traindf.body.tolist()\n",
    "train_title_raw = traindf.issue_title.tolist()"
   ]
  },
  {
   "cell_type": "code",
   "execution_count": 9,
   "metadata": {},
   "outputs": [
    {
     "name": "stderr",
     "output_type": "stream",
     "text": [
      "/home/richard/dev/Github-issues-summerizer/.env/lib/python3.5/site-packages/matplotlib/axes/_axes.py:6462: UserWarning: The 'normed' kwarg is deprecated, and has been replaced by the 'density' kwarg.\n",
      "  warnings.warn(\"The 'normed' kwarg is deprecated, and has been \"\n"
     ]
    },
    {
     "data": {
      "text/plain": [
       "<matplotlib.axes._subplots.AxesSubplot at 0x7fe0691e0c18>"
      ]
     },
     "execution_count": 9,
     "metadata": {},
     "output_type": "execute_result"
    },
    {
     "data": {
      "image/png": "[encoded data removed]",
      "text/plain": [
       "<Figure size 432x288 with 1 Axes>"
      ]
     },
     "metadata": {},
     "output_type": "display_data"
    }
   ],
   "source": [
    "import matplotlib.pyplot as plt\n",
    "import seaborn as sns\n",
    "\n",
    "sns.distplot([len(body.split()) for body in train_body_raw])"
   ]
  },
  {
   "cell_type": "code",
   "execution_count": 10,
   "metadata": {},
   "outputs": [
    {
     "name": "stderr",
     "output_type": "stream",
     "text": [
      "/home/richard/dev/Github-issues-summerizer/.env/lib/python3.5/site-packages/matplotlib/axes/_axes.py:6462: UserWarning: The 'normed' kwarg is deprecated, and has been replaced by the 'density' kwarg.\n",
      "  warnings.warn(\"The 'normed' kwarg is deprecated, and has been \"\n"
     ]
    },
    {
     "data": {
      "text/plain": [
       "<matplotlib.axes._subplots.AxesSubplot at 0x7fe0862af978>"
      ]
     },
     "execution_count": 10,
     "metadata": {},
     "output_type": "execute_result"
    },
    {
     "data": {
      "image/png": "[encoded data removed]",
      "text/plain": [
       "<Figure size 432x288 with 1 Axes>"
      ]
     },
     "metadata": {},
     "output_type": "display_data"
    }
   ],
   "source": [
    "sns.distplot([len(title.split()) for title in train_title_raw])"
   ]
  },
  {
   "cell_type": "markdown",
   "metadata": {},
   "source": [
    "# Preprocessing"
   ]
  },
  {
   "cell_type": "markdown",
   "metadata": {},
   "source": [
    "#### For x (body)"
   ]
  },
  {
   "cell_type": "code",
   "execution_count": 16,
   "metadata": {},
   "outputs": [
    {
     "name": "stdout",
     "output_type": "stream",
     "text": [
      "Found 1077932 unique \"words\"\n"
     ]
    }
   ],
   "source": [
    "from keras.preprocessing.text import Tokenizer\n",
    "\n",
    "tk_body = Tokenizer()\n",
    "tk_body.fit_on_texts(train_body_raw)\n",
    "print('Found %s unique \"words\"' % len(tk_body.word_index))\n",
    "tk_body.num_words = 10000\n",
    "train_body_vecs = tk_body.texts_to_sequences(train_body_raw)"
   ]
  },
  {
   "cell_type": "code",
   "execution_count": 17,
   "metadata": {},
   "outputs": [],
   "source": [
    "from keras.preprocessing.sequence import pad_sequences\n",
    "train_body_vecs = pad_sequences(train_body_vecs, 100)"
   ]
  },
  {
   "cell_type": "markdown",
   "metadata": {},
   "source": [
    "#### For y (title)"
   ]
  },
  {
   "cell_type": "code",
   "execution_count": 14,
   "metadata": {},
   "outputs": [
    {
     "name": "stdout",
     "output_type": "stream",
     "text": [
      "Found 191077 unique \"words\"\n"
     ]
    }
   ],
   "source": [
    "tk_title = Tokenizer()\n",
    "tk_title.fit_on_texts(train_title_raw)\n",
    "print('Found %s unique \"words\"' % len(tk_title.word_index))"
   ]
  },
  {
   "cell_type": "code",
   "execution_count": 18,
   "metadata": {},
   "outputs": [
    {
     "name": "stdout",
     "output_type": "stream",
     "text": [
      "tokenizing...\n",
      "padding...\n"
     ]
    }
   ],
   "source": [
    "from Helpers import custom_pad_sequences\n",
    "\n",
    "train_title_vecs, tk_title, _, _ = custom_pad_sequences(train_title_raw, 1000, 10)"
   ]
  },
  {
   "cell_type": "markdown",
   "metadata": {},
   "source": [
    "#### Save tokenizers and vecs to local"
   ]
  },
  {
   "cell_type": "code",
   "execution_count": 19,
   "metadata": {},
   "outputs": [],
   "source": [
    "import dill as dpickle\n",
    "import numpy as np\n",
    "\n",
    "# Save the preprocessor\n",
    "with open('tk_body.dpkl', 'wb') as f:\n",
    "    dpickle.dump(tk_body, f)\n",
    "\n",
    "with open('tk_title.dpkl', 'wb') as f:\n",
    "    dpickle.dump(tk_title, f)\n",
    "\n",
    "# Save the processed data\n",
    "np.save('train_title_vecs.npy', train_title_vecs)\n",
    "np.save('train_body_vecs.npy', train_body_vecs)"
   ]
  },
  {
   "cell_type": "code",
   "execution_count": null,
   "metadata": {},
   "outputs": [],
   "source": []
  }
 ],
 "metadata": {
  "kernelspec": {
   "display_name": "Python 3",
   "language": "python",
   "name": "python3"
  },
  "language_info": {
   "codemirror_mode": {
    "name": "ipython",
    "version": 3
   },
   "file_extension": ".py",
   "mimetype": "text/x-python",
   "name": "python",
   "nbconvert_exporter": "python",
   "pygments_lexer": "ipython3",
   "version": "3.5.2"
  }
 },
 "nbformat": 4,
 "nbformat_minor": 2
}
