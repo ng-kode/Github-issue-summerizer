{
 "cells": [
  {
   "cell_type": "markdown",
   "metadata": {},
   "source": [
    "# Import data"
   ]
  },
  {
   "cell_type": "code",
   "execution_count": 1,
   "metadata": {},
   "outputs": [],
   "source": [
    "import numpy as np\n",
    "import pandas as pd\n",
    "from sklearn.model_selection import train_test_split"
   ]
  },
  {
   "cell_type": "code",
   "execution_count": 2,
   "metadata": {},
   "outputs": [
    {
     "name": "stdout",
     "output_type": "stream",
     "text": [
      "Train: 1800000 rows 3 columns\n",
      "Test: 200000 rows 3 columns\n"
     ]
    },
    {
     "data": {
      "text/html": [
       "<div>\n",
       "<style scoped>\n",
       "    .dataframe tbody tr th:only-of-type {\n",
       "        vertical-align: middle;\n",
       "    }\n",
       "\n",
       "    .dataframe tbody tr th {\n",
       "        vertical-align: top;\n",
       "    }\n",
       "\n",
       "    .dataframe thead th {\n",
       "        text-align: right;\n",
       "    }\n",
       "</style>\n",
       "<table border=\"1\" class=\"dataframe\">\n",
       "  <thead>\n",
       "    <tr style=\"text-align: right;\">\n",
       "      <th></th>\n",
       "      <th>issue_url</th>\n",
       "      <th>issue_title</th>\n",
       "      <th>body</th>\n",
       "    </tr>\n",
       "  </thead>\n",
       "  <tbody>\n",
       "    <tr>\n",
       "      <th>4457408</th>\n",
       "      <td>\"https://github.com/circlecell/jsonlintpro/iss...</td>\n",
       "      <td>long num changed after validation</td>\n",
       "      <td>{ i : 4012441203977093419,4012441203977093420 ...</td>\n",
       "    </tr>\n",
       "    <tr>\n",
       "      <th>33119</th>\n",
       "      <td>\"https://github.com/jiggzson/nerdamer/issues/161\"</td>\n",
       "      <td>acosh 1/23.12 throws</td>\n",
       "      <td>sorta related to 157. this, instead of not eva...</td>\n",
       "    </tr>\n",
       "    <tr>\n",
       "      <th>1905639</th>\n",
       "      <td>\"https://github.com/truckerpath/clj-datadog/is...</td>\n",
       "      <td>system/currenttimemillis vs system/nanotime</td>\n",
       "      <td>would it be better to use nanotime here instea...</td>\n",
       "    </tr>\n",
       "    <tr>\n",
       "      <th>1774158</th>\n",
       "      <td>\"https://github.com/BeyondTrust/pbis-open/issu...</td>\n",
       "      <td>cannot send different fqdn to ad</td>\n",
       "      <td>version : any os/distro : any issue/impact : c...</td>\n",
       "    </tr>\n",
       "    <tr>\n",
       "      <th>3703906</th>\n",
       "      <td>\"https://github.com/Automattic/facebook-instan...</td>\n",
       "      <td>no rules defined for &lt;div class= entry-content...</td>\n",
       "      <td>no rules defined for &lt;div class= entry-content...</td>\n",
       "    </tr>\n",
       "  </tbody>\n",
       "</table>\n",
       "</div>"
      ],
      "text/plain": [
       "                                                 issue_url  \\\n",
       "4457408  \"https://github.com/circlecell/jsonlintpro/iss...   \n",
       "33119    \"https://github.com/jiggzson/nerdamer/issues/161\"   \n",
       "1905639  \"https://github.com/truckerpath/clj-datadog/is...   \n",
       "1774158  \"https://github.com/BeyondTrust/pbis-open/issu...   \n",
       "3703906  \"https://github.com/Automattic/facebook-instan...   \n",
       "\n",
       "                                               issue_title  \\\n",
       "4457408                  long num changed after validation   \n",
       "33119                                 acosh 1/23.12 throws   \n",
       "1905639        system/currenttimemillis vs system/nanotime   \n",
       "1774158                   cannot send different fqdn to ad   \n",
       "3703906  no rules defined for <div class= entry-content...   \n",
       "\n",
       "                                                      body  \n",
       "4457408  { i : 4012441203977093419,4012441203977093420 ...  \n",
       "33119    sorta related to 157. this, instead of not eva...  \n",
       "1905639  would it be better to use nanotime here instea...  \n",
       "1774158  version : any os/distro : any issue/impact : c...  \n",
       "3703906  no rules defined for <div class= entry-content...  "
      ]
     },
     "execution_count": 2,
     "metadata": {},
     "output_type": "execute_result"
    }
   ],
   "source": [
    "traindf, testdf = train_test_split(pd.read_csv('github_issues.csv').sample(n=2000000), \n",
    "                                   test_size=.10, random_state=0)\n",
    "\n",
    "#print out stats about shape of data\n",
    "print('Train: {} rows {} columns'.format(traindf.shape[0],traindf.shape[1]))\n",
    "print('Test: {} rows {} columns'.format(testdf.shape[0],testdf.shape[1]))\n",
    "\n",
    "traindf.head()"
   ]
  },
  {
   "cell_type": "code",
   "execution_count": 3,
   "metadata": {},
   "outputs": [],
   "source": [
    "train_body_raw = traindf.body.tolist()\n",
    "train_title_raw = traindf.issue_title.tolist()"
   ]
  },
  {
   "cell_type": "markdown",
   "metadata": {},
   "source": [
    "# Preprocessing"
   ]
  },
  {
   "cell_type": "markdown",
   "metadata": {},
   "source": [
    "#### For x (body)"
   ]
  },
  {
   "cell_type": "code",
   "execution_count": 4,
   "metadata": {},
   "outputs": [
    {
     "name": "stderr",
     "output_type": "stream",
     "text": [
      "/home/richard/deep_learn_p3/lib/python3.5/site-packages/h5py/__init__.py:36: FutureWarning: Conversion of the second argument of issubdtype from `float` to `np.floating` is deprecated. In future, it will be treated as `np.float64 == np.dtype(float).type`.\n",
      "  from ._conv import register_converters as _register_converters\n",
      "Using TensorFlow backend.\n"
     ]
    }
   ],
   "source": [
    "from keras.preprocessing.text import Tokenizer\n",
    "\n",
    "tk_body = Tokenizer()\n",
    "tk_body.fit_on_texts(train_body_raw)\n",
    "tk_body.num_words = 8000\n",
    "train_body_vecs = tk_body.texts_to_sequences(train_body_raw)"
   ]
  },
  {
   "cell_type": "code",
   "execution_count": 5,
   "metadata": {},
   "outputs": [],
   "source": [
    "from keras.preprocessing.sequence import pad_sequences\n",
    "train_body_vecs = pad_sequences(train_body_vecs, 70)"
   ]
  },
  {
   "cell_type": "markdown",
   "metadata": {},
   "source": [
    "#### For y (title)"
   ]
  },
  {
   "cell_type": "code",
   "execution_count": 19,
   "metadata": {},
   "outputs": [
    {
     "name": "stdout",
     "output_type": "stream",
     "text": [
      "tokenizing...\n",
      "padding...\n"
     ]
    }
   ],
   "source": [
    "from Helpers import custom_pad_sequences\n",
    "\n",
    "train_title_vecs, tk_title, _, _ = custom_pad_sequences(train_title_raw, 4500, 12)"
   ]
  },
  {
   "cell_type": "markdown",
   "metadata": {},
   "source": [
    "#### Save tokenizers and vecs to local"
   ]
  },
  {
   "cell_type": "code",
   "execution_count": 20,
   "metadata": {},
   "outputs": [],
   "source": [
    "import dill as dpickle\n",
    "import numpy as np\n",
    "\n",
    "# Save the preprocessor\n",
    "with open('tk_body.dpkl', 'wb') as f:\n",
    "    dpickle.dump(tk_body, f)\n",
    "\n",
    "with open('tk_title.dpkl', 'wb') as f:\n",
    "    dpickle.dump(tk_title, f)\n",
    "\n",
    "# Save the processed data\n",
    "np.save('train_title_vecs.npy', train_title_vecs)\n",
    "np.save('train_body_vecs.npy', train_body_vecs)"
   ]
  },
  {
   "cell_type": "code",
   "execution_count": null,
   "metadata": {},
   "outputs": [],
   "source": []
  }
 ],
 "metadata": {
  "kernelspec": {
   "display_name": "Python 3",
   "language": "python",
   "name": "python3"
  },
  "language_info": {
   "codemirror_mode": {
    "name": "ipython",
    "version": 3
   },
   "file_extension": ".py",
   "mimetype": "text/x-python",
   "name": "python",
   "nbconvert_exporter": "python",
   "pygments_lexer": "ipython3",
   "version": "3.5.2"
  }
 },
 "nbformat": 4,
 "nbformat_minor": 2
}
