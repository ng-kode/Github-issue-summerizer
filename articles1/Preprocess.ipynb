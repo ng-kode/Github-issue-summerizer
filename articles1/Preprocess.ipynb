{
 "cells": [
  {
   "cell_type": "markdown",
   "metadata": {},
   "source": [
    "# Import data"
   ]
  },
  {
   "cell_type": "code",
   "execution_count": 1,
   "metadata": {},
   "outputs": [],
   "source": [
    "import numpy as np\n",
    "import pandas as pd\n",
    "from sklearn.model_selection import train_test_split\n",
    "import matplotlib.pyplot as plt\n",
    "import seaborn as sns\n",
    "%matplotlib inline"
   ]
  },
  {
   "cell_type": "code",
   "execution_count": 2,
   "metadata": {},
   "outputs": [
    {
     "name": "stdout",
     "output_type": "stream",
     "text": [
      "Train: 40000 rows 10 columns\n",
      "Test: 10000 rows 10 columns\n"
     ]
    },
    {
     "data": {
      "text/html": [
       "<div>\n",
       "<style scoped>\n",
       "    .dataframe tbody tr th:only-of-type {\n",
       "        vertical-align: middle;\n",
       "    }\n",
       "\n",
       "    .dataframe tbody tr th {\n",
       "        vertical-align: top;\n",
       "    }\n",
       "\n",
       "    .dataframe thead th {\n",
       "        text-align: right;\n",
       "    }\n",
       "</style>\n",
       "<table border=\"1\" class=\"dataframe\">\n",
       "  <thead>\n",
       "    <tr style=\"text-align: right;\">\n",
       "      <th></th>\n",
       "      <th>Unnamed: 0</th>\n",
       "      <th>id</th>\n",
       "      <th>title</th>\n",
       "      <th>publication</th>\n",
       "      <th>author</th>\n",
       "      <th>date</th>\n",
       "      <th>year</th>\n",
       "      <th>month</th>\n",
       "      <th>url</th>\n",
       "      <th>content</th>\n",
       "    </tr>\n",
       "  </thead>\n",
       "  <tbody>\n",
       "    <tr>\n",
       "      <th>20330</th>\n",
       "      <td>20333</td>\n",
       "      <td>39079</td>\n",
       "      <td>Trump to Launch Campaign Ads in Key Swing Stat...</td>\n",
       "      <td>Breitbart</td>\n",
       "      <td>Alex Swoyer</td>\n",
       "      <td>2016-08-17</td>\n",
       "      <td>2016.0</td>\n",
       "      <td>8.0</td>\n",
       "      <td>NaN</td>\n",
       "      <td>Donald Trump’s campaign will air its first gen...</td>\n",
       "    </tr>\n",
       "    <tr>\n",
       "      <th>17532</th>\n",
       "      <td>17534</td>\n",
       "      <td>36273</td>\n",
       "      <td>RNC on FBI Re-Opening Clinton Investigation: ’...</td>\n",
       "      <td>Breitbart</td>\n",
       "      <td>Katie McHugh</td>\n",
       "      <td>2016-10-28</td>\n",
       "      <td>2016.0</td>\n",
       "      <td>10.0</td>\n",
       "      <td>NaN</td>\n",
       "      <td>The Republican National Committee says that De...</td>\n",
       "    </tr>\n",
       "    <tr>\n",
       "      <th>45819</th>\n",
       "      <td>48788</td>\n",
       "      <td>68189</td>\n",
       "      <td>Take the quiz created by a ’super genius’ SAT ...</td>\n",
       "      <td>Business Insider</td>\n",
       "      <td>Abby Jackson</td>\n",
       "      <td>2016-02-14</td>\n",
       "      <td>2016.0</td>\n",
       "      <td>2.0</td>\n",
       "      <td>NaN</td>\n",
       "      <td>’’ ’’ ’With  due to take place in just a few s...</td>\n",
       "    </tr>\n",
       "    <tr>\n",
       "      <th>34807</th>\n",
       "      <td>35497</td>\n",
       "      <td>54318</td>\n",
       "      <td>Chris Cornell funeral to be held May 26 in LA</td>\n",
       "      <td>CNN</td>\n",
       "      <td>Chloe Melas</td>\n",
       "      <td>2017-05-20</td>\n",
       "      <td>2017.0</td>\n",
       "      <td>5.0</td>\n",
       "      <td>NaN</td>\n",
       "      <td>(CNN) Chris Cornell, the lead singer for Soun...</td>\n",
       "    </tr>\n",
       "    <tr>\n",
       "      <th>31888</th>\n",
       "      <td>31960</td>\n",
       "      <td>50727</td>\n",
       "      <td>Ex-DNC chief Schultz confronts Comey about hac...</td>\n",
       "      <td>CNN</td>\n",
       "      <td>Phil Mattingly</td>\n",
       "      <td>2017-01-14</td>\n",
       "      <td>2017.0</td>\n",
       "      <td>1.0</td>\n",
       "      <td>NaN</td>\n",
       "      <td>Washington (CNN) Former Democratic National Co...</td>\n",
       "    </tr>\n",
       "  </tbody>\n",
       "</table>\n",
       "</div>"
      ],
      "text/plain": [
       "       Unnamed: 0     id                                              title  \\\n",
       "20330       20333  39079  Trump to Launch Campaign Ads in Key Swing Stat...   \n",
       "17532       17534  36273  RNC on FBI Re-Opening Clinton Investigation: ’...   \n",
       "45819       48788  68189  Take the quiz created by a ’super genius’ SAT ...   \n",
       "34807       35497  54318      Chris Cornell funeral to be held May 26 in LA   \n",
       "31888       31960  50727  Ex-DNC chief Schultz confronts Comey about hac...   \n",
       "\n",
       "            publication          author        date    year  month  url  \\\n",
       "20330         Breitbart     Alex Swoyer  2016-08-17  2016.0    8.0  NaN   \n",
       "17532         Breitbart    Katie McHugh  2016-10-28  2016.0   10.0  NaN   \n",
       "45819  Business Insider    Abby Jackson  2016-02-14  2016.0    2.0  NaN   \n",
       "34807               CNN     Chloe Melas  2017-05-20  2017.0    5.0  NaN   \n",
       "31888               CNN  Phil Mattingly  2017-01-14  2017.0    1.0  NaN   \n",
       "\n",
       "                                                 content  \n",
       "20330  Donald Trump’s campaign will air its first gen...  \n",
       "17532  The Republican National Committee says that De...  \n",
       "45819  ’’ ’’ ’With  due to take place in just a few s...  \n",
       "34807   (CNN) Chris Cornell, the lead singer for Soun...  \n",
       "31888  Washington (CNN) Former Democratic National Co...  "
      ]
     },
     "execution_count": 2,
     "metadata": {},
     "output_type": "execute_result"
    }
   ],
   "source": [
    "traindf, testdf = train_test_split(pd.read_csv('articles1.csv'), \n",
    "                                   test_size=.20, random_state=0)\n",
    "\n",
    "#print out stats about shape of data\n",
    "print('Train: {} rows {} columns'.format(traindf.shape[0],traindf.shape[1]))\n",
    "print('Test: {} rows {} columns'.format(testdf.shape[0],testdf.shape[1]))\n",
    "\n",
    "traindf.head()"
   ]
  },
  {
   "cell_type": "code",
   "execution_count": 3,
   "metadata": {},
   "outputs": [],
   "source": [
    "train_body_raw = traindf.content.tolist()\n",
    "train_title_raw = traindf.title.tolist()"
   ]
  },
  {
   "cell_type": "markdown",
   "metadata": {},
   "source": [
    "# Preprocessing"
   ]
  },
  {
   "cell_type": "markdown",
   "metadata": {},
   "source": [
    "#### For x (body)"
   ]
  },
  {
   "cell_type": "code",
   "execution_count": 4,
   "metadata": {},
   "outputs": [
    {
     "name": "stderr",
     "output_type": "stream",
     "text": [
      "/home/richard/deep_learn_p3/lib/python3.5/site-packages/h5py/__init__.py:36: FutureWarning: Conversion of the second argument of issubdtype from `float` to `np.floating` is deprecated. In future, it will be treated as `np.float64 == np.dtype(float).type`.\n",
      "  from ._conv import register_converters as _register_converters\n",
      "Using TensorFlow backend.\n"
     ]
    },
    {
     "name": "stdout",
     "output_type": "stream",
     "text": [
      "Found 237610 unique words\n"
     ]
    }
   ],
   "source": [
    "from keras.preprocessing.text import Tokenizer\n",
    "\n",
    "tk_body = Tokenizer()\n",
    "tk_body.fit_on_texts(train_body_raw)\n",
    "print('Found %s unique words' % len(tk_body.word_index))\n",
    "tk_body.num_words = 8000\n",
    "train_body_vecs = tk_body.texts_to_sequences(train_body_raw)"
   ]
  },
  {
   "cell_type": "code",
   "execution_count": 5,
   "metadata": {},
   "outputs": [
    {
     "data": {
      "text/plain": [
       "<matplotlib.axes._subplots.AxesSubplot at 0x7fd717241e80>"
      ]
     },
     "execution_count": 5,
     "metadata": {},
     "output_type": "execute_result"
    },
    {
     "data": {
      "image/png": "[encoded data removed]",
      "text/plain": [
       "<matplotlib.figure.Figure at 0x7fd7172cff60>"
      ]
     },
     "metadata": {},
     "output_type": "display_data"
    }
   ],
   "source": [
    "sns.distplot([len(seq) for seq in train_body_vecs])"
   ]
  },
  {
   "cell_type": "code",
   "execution_count": 6,
   "metadata": {},
   "outputs": [],
   "source": [
    "from keras.preprocessing.sequence import pad_sequences\n",
    "train_body_vecs = pad_sequences(train_body_vecs, 1000)"
   ]
  },
  {
   "cell_type": "markdown",
   "metadata": {},
   "source": [
    "#### For y (title)"
   ]
  },
  {
   "cell_type": "code",
   "execution_count": 7,
   "metadata": {},
   "outputs": [
    {
     "name": "stdout",
     "output_type": "stream",
     "text": [
      "tokenizing...\n",
      "padding...\n"
     ]
    }
   ],
   "source": [
    "from Helpers import custom_pad_sequences\n",
    "\n",
    "train_title_vecs, tk_title, _, _ = custom_pad_sequences(train_title_raw, 5000, 15)"
   ]
  },
  {
   "cell_type": "code",
   "execution_count": 8,
   "metadata": {
    "scrolled": true
   },
   "outputs": [
    {
     "data": {
      "text/plain": [
       "(40000, 15)"
      ]
     },
     "execution_count": 8,
     "metadata": {},
     "output_type": "execute_result"
    }
   ],
   "source": [
    "train_title_vecs.shape"
   ]
  },
  {
   "cell_type": "code",
   "execution_count": 9,
   "metadata": {},
   "outputs": [
    {
     "data": {
      "text/plain": [
       "(15,)"
      ]
     },
     "execution_count": 9,
     "metadata": {},
     "output_type": "execute_result"
    }
   ],
   "source": [
    "train_title_vecs[0].shape"
   ]
  },
  {
   "cell_type": "markdown",
   "metadata": {},
   "source": [
    "#### Save tokenizers and vecs to local"
   ]
  },
  {
   "cell_type": "code",
   "execution_count": 10,
   "metadata": {},
   "outputs": [],
   "source": [
    "import dill as dpickle\n",
    "import numpy as np\n",
    "\n",
    "# Save the preprocessor\n",
    "with open('tk_body.dpkl', 'wb') as f:\n",
    "    dpickle.dump(tk_body, f)\n",
    "\n",
    "with open('tk_title.dpkl', 'wb') as f:\n",
    "    dpickle.dump(tk_title, f)\n",
    "\n",
    "# Save the processed data\n",
    "np.save('train_body_vecs.npy', train_body_vecs)\n",
    "np.save('train_title_vecs.npy', train_title_vecs)"
   ]
  },
  {
   "cell_type": "code",
   "execution_count": null,
   "metadata": {},
   "outputs": [],
   "source": []
  },
  {
   "cell_type": "code",
   "execution_count": null,
   "metadata": {},
   "outputs": [],
   "source": []
  },
  {
   "cell_type": "code",
   "execution_count": 29,
   "metadata": {},
   "outputs": [],
   "source": []
  },
  {
   "cell_type": "code",
   "execution_count": null,
   "metadata": {},
   "outputs": [],
   "source": []
  }
 ],
 "metadata": {
  "kernelspec": {
   "display_name": "Python 3",
   "language": "python",
   "name": "python3"
  },
  "language_info": {
   "codemirror_mode": {
    "name": "ipython",
    "version": 3
   },
   "file_extension": ".py",
   "mimetype": "text/x-python",
   "name": "python",
   "nbconvert_exporter": "python",
   "pygments_lexer": "ipython3",
   "version": "3.5.2"
  }
 },
 "nbformat": 4,
 "nbformat_minor": 2
}
